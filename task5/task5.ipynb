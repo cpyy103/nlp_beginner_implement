{
 "cells": [
  {
   "cell_type": "code",
   "execution_count": 1,
   "metadata": {},
   "outputs": [],
   "source": [
    "import pandas as pd\n",
    "import numpy as np\n",
    "import torch\n",
    "import torch.nn as nn\n",
    "import os\n",
    "import warnings\n",
    "warnings.filterwarnings('ignore')"
   ]
  },
  {
   "cell_type": "code",
   "execution_count": 2,
   "metadata": {},
   "outputs": [],
   "source": [
    "class Config(object):\n",
    "    raw_data_path = 'poetryFromTang.txt'\n",
    "    numpy_data_path = 'data.npz'\n",
    "    \n",
    "    batch_size = 32\n",
    "    embedding_dim = 100\n",
    "    hidden_dim = 100\n",
    "    \n",
    "    model_path = 'model.pkl'\n",
    "    device = torch.device('cuda') if torch.cuda.is_available() else torch.device('cpu')\n",
    "    \n",
    "    learning_rate = 0.001\n",
    "    epochs = 50\n",
    "    \n",
    "    max_generate_length = 50\n",
    "        \n",
    "arg = Config()\n"
   ]
  },
  {
   "cell_type": "code",
   "execution_count": null,
   "metadata": {},
   "outputs": [],
   "source": []
  },
  {
   "cell_type": "markdown",
   "metadata": {},
   "source": [
    "## 数据处理"
   ]
  },
  {
   "cell_type": "code",
   "execution_count": 3,
   "metadata": {},
   "outputs": [],
   "source": [
    "def read_data(path):\n",
    "    with open(path) as f:\n",
    "        poetry = []\n",
    "        sentence = ''\n",
    "        for line in f.readlines():\n",
    "            line = line.strip()\n",
    "            if line ==  '':\n",
    "                poetry.append(sentence)\n",
    "                sentence = ''\n",
    "            else:\n",
    "                sentence += line\n",
    "    return poetry\n",
    "\n",
    "\n",
    "def pad_sequence(sequences, max_len=None, dtype='int32', padding='post', truncating='post', value=0):\n",
    "    '''\n",
    "    填充语句\n",
    "    将长度小于max_len的句子用空格补充，使其长度为max_len\n",
    "    将长度大于max_len的句子进行截断，使其长度为max_len\n",
    "    :param sequences: list 不同句子\n",
    "    :param max_len: 每句的最大长度\n",
    "    :param dtype: 返回句子的数据类型\n",
    "    :param padding: 'pre'或 'post', pre：在句子前面补充空格， post：在句子后面补充\n",
    "    :param truncating: 'pre'或'post', pre：截断并舍弃长句子的前面超出长度的部分，post:截断后面部分\n",
    "    :param value: 用于补充的值\n",
    "    :return: X numpy 矩阵 size = ( number_of_sequence x max_len )\n",
    "    '''\n",
    "    print('padding data...')\n",
    "    length = []\n",
    "    for s in sequences:\n",
    "        length.append(len(s))\n",
    "\n",
    "    if max_len is None:\n",
    "        max_len = max(length)\n",
    "\n",
    "    x = (np.ones((len(sequences), max_len))*value).astype(dtype)\n",
    "    for index, s in enumerate(sequences):\n",
    "        if not length[index] or length[index] == max_len:\n",
    "            continue\n",
    "        if length[index] > max_len:\n",
    "            if truncating == 'pre':\n",
    "                x[index, -max_len:] = s[-max_len:]\n",
    "            elif truncating == 'post':\n",
    "                x[index, :max_len] = s[:max_len]\n",
    "            else:\n",
    "                raise ValueError('truncating error -  %s' % truncating)\n",
    "\n",
    "        elif length[index] < max_len:\n",
    "            if padding == 'pre':\n",
    "                x[index, -length[index]:] = s\n",
    "            elif padding == 'post':\n",
    "                x[index, :length[index]] = s\n",
    "            else:\n",
    "                raise ValueError('padding error - %s' % padding)\n",
    "    return x\n",
    "\n",
    "\n",
    "def get_data():\n",
    "    # 读取数据\n",
    "    print('getting data...')\n",
    "    poetry = read_data(arg.raw_data_path)\n",
    "    \n",
    "    # 建立char和index的mapping\n",
    "    chars = {c for sentence in poetry for c in sentence}\n",
    "    char2index = {char: index for index, char in enumerate(chars)}\n",
    "    char2index['<START>'] = len(char2index)\n",
    "    char2index['<EOP>'] = len(char2index)\n",
    "    char2index['<SPACE>'] = len(char2index)\n",
    "    index2char = {index: char for char, index in list(char2index.items())}\n",
    "    \n",
    "    # 为每首诗加上起始和终止符 \n",
    "    for i in range(len(poetry)):\n",
    "        poetry[i] = ['<START>'] + list(poetry[i]) + ['<EOP>']\n",
    "    \n",
    "    # 将汉字转变为数字  \n",
    "    poetry = [[char2index[char] for char in sentence] for sentence in poetry]\n",
    "    \n",
    "    # 进行padding \n",
    "    padding_data = pad_sequence(poetry, max_len=100, \n",
    "                                padding='post', truncating='post',\n",
    "                                value=char2index['<SPACE>'])\n",
    "    \n",
    "\n",
    "    return padding_data, char2index, index2char\n",
    "\n"
   ]
  },
  {
   "cell_type": "markdown",
   "metadata": {},
   "source": [
    "## 建立模型"
   ]
  },
  {
   "cell_type": "code",
   "execution_count": 4,
   "metadata": {},
   "outputs": [],
   "source": [
    "class PoetryModel(nn.Module):\n",
    "    def __init__(self, vocab_size, embedding_dim, hidden_dim):\n",
    "        super(PoetryModel,self).__init__()\n",
    "        self.hidden_dim = hidden_dim\n",
    "        self.embedding = nn.Embedding(vocab_size, embedding_dim)\n",
    "        self.num_layers = 2\n",
    "        self.lstm = nn.LSTM(embedding_dim, hidden_dim, num_layers=self.num_layers)\n",
    "        self.linear = nn.Linear(self.hidden_dim, vocab_size)\n",
    "        \n",
    "    def forward(self, x, hidden=None):\n",
    "        sequence_length, batch_size = x.size()\n",
    "        if hidden is None:\n",
    "            h_0 = x.data.new(self.num_layers, batch_size, self.hidden_dim).fill_(0).float()\n",
    "            c_0 = x.data.new(self.num_layers, batch_size, self.hidden_dim).fill_(0).float()\n",
    "        else:\n",
    "            h_0, c_0 = hidden\n",
    "            \n",
    "        # embeds shape （sequence, batch_size, embedding_dim)\n",
    "        embeds = self.embedding(x)\n",
    "        \n",
    "        # output shape (sequence, batch_size, hidden_dim)\n",
    "        output, hidden = self.lstm(embeds, (h_0, c_0))\n",
    "        \n",
    "        # output shape (sequence*batch_size, vocab_size)\n",
    "        output = self.linear(output.view(sequence_length*batch_size, -1))\n",
    "        \n",
    "        return output, hidden\n",
    "    \n"
   ]
  },
  {
   "cell_type": "markdown",
   "metadata": {},
   "source": [
    "## 训练"
   ]
  },
  {
   "cell_type": "code",
   "execution_count": 5,
   "metadata": {},
   "outputs": [
    {
     "name": "stdout",
     "output_type": "stream",
     "text": [
      "getting data...\n",
      "padding data...\n",
      "training...\n",
      "Epoch 0, loss 7.6840\n",
      "Epoch 1, loss 6.9151\n",
      "Epoch 2, loss 6.1275\n",
      "Epoch 3, loss 5.1883\n",
      "Epoch 4, loss 4.6228\n",
      "Epoch 5, loss 4.7455\n",
      "Epoch 6, loss 4.3252\n",
      "Epoch 7, loss 4.3018\n",
      "Epoch 8, loss 4.0782\n",
      "Epoch 9, loss 4.3203\n",
      "Epoch 10, loss 4.0875\n",
      "Epoch 11, loss 4.0975\n",
      "Epoch 12, loss 4.2681\n",
      "Epoch 13, loss 3.9342\n",
      "Epoch 14, loss 4.0623\n",
      "Epoch 15, loss 4.1967\n",
      "Epoch 16, loss 4.2694\n",
      "Epoch 17, loss 4.0806\n",
      "Epoch 18, loss 4.0705\n",
      "Epoch 19, loss 3.9069\n",
      "Epoch 20, loss 3.8527\n",
      "Epoch 21, loss 3.9969\n",
      "Epoch 22, loss 3.9416\n",
      "Epoch 23, loss 3.7981\n",
      "Epoch 24, loss 4.2280\n",
      "Epoch 25, loss 3.8834\n",
      "Epoch 26, loss 4.3091\n",
      "Epoch 27, loss 3.8503\n",
      "Epoch 28, loss 3.9085\n",
      "Epoch 29, loss 3.7768\n",
      "Epoch 30, loss 4.0377\n",
      "Epoch 31, loss 4.1548\n",
      "Epoch 32, loss 3.8894\n",
      "Epoch 33, loss 3.9075\n",
      "Epoch 34, loss 3.9830\n",
      "Epoch 35, loss 3.8298\n",
      "Epoch 36, loss 3.6706\n",
      "Epoch 37, loss 3.8118\n",
      "Epoch 38, loss 3.6250\n",
      "Epoch 39, loss 3.7096\n",
      "Epoch 40, loss 3.7650\n",
      "Epoch 41, loss 3.5898\n",
      "Epoch 42, loss 3.6960\n",
      "Epoch 43, loss 3.5989\n",
      "Epoch 44, loss 3.6423\n",
      "Epoch 45, loss 3.7368\n",
      "Epoch 46, loss 3.5221\n",
      "Epoch 47, loss 3.4880\n",
      "Epoch 48, loss 3.7013\n",
      "Epoch 49, loss 3.7807\n"
     ]
    }
   ],
   "source": [
    "data, char2index, index2char = get_data()\n",
    "data = torch.from_numpy(data)\n",
    "data_loader = torch.utils.data.DataLoader(data, batch_size=arg.batch_size, shuffle=True)\n",
    "\n",
    "model = PoetryModel(len(char2index), arg.embedding_dim, arg.hidden_dim)\n",
    "if os.path.exists(arg.model_path):\n",
    "    model.load_state_dict(torch.load(arg.model_path))\n",
    "model.to(arg.device)\n",
    "\n",
    "optimizer = torch.optim.Adam(model.parameters())\n",
    "criterion = nn.CrossEntropyLoss()\n",
    "\n",
    "print('training...')\n",
    "epoch_loss = []\n",
    "for epoch in range(arg.epochs):\n",
    "    iter_loss = []\n",
    "    for index, data in enumerate(data_loader):\n",
    "        # 转置成shape ( sequence_length, batch_size )  sequence_length 为max_len\n",
    "        # contiguous 为了改变底层的存储，contiguous重新按顺序存储，否则执行view会报错\n",
    "        data = data.long().transpose(1, 0).contiguous().to(arg.device)\n",
    "\n",
    "        x, y = data[:-1, :], data[1:, :]\n",
    "        y_, _ = model(x)\n",
    "\n",
    "        optimizer.zero_grad()\n",
    "        loss = criterion(y_, y.view(-1))\n",
    "        loss.backward()\n",
    "        optimizer.step()\n",
    "\n",
    "        iter_loss.append(loss.item())\n",
    "    epoch_loss.append(sum(iter_loss)/len(iter_loss))\n",
    "\n",
    "    print('Epoch %d, loss %.4f' % (epoch, epoch_loss[-1]))\n",
    "torch.save(model.state_dict(), arg.model_path)\n",
    "\n",
    "    "
   ]
  },
  {
   "cell_type": "code",
   "execution_count": 7,
   "metadata": {},
   "outputs": [
    {
     "data": {
      "text/plain": [
       "[<matplotlib.lines.Line2D at 0x2e2ae27e588>]"
      ]
     },
     "execution_count": 7,
     "metadata": {},
     "output_type": "execute_result"
    },
    {
     "data": {
      "image/png": "[encoded data removed]",
      "text/plain": [
       "<Figure size 432x288 with 1 Axes>"
      ]
     },
     "metadata": {
      "needs_background": "light"
     },
     "output_type": "display_data"
    }
   ],
   "source": [
    "import matplotlib.pyplot as plt\n",
    "%matplotlib inline\n",
    "plt.plot(epoch_loss)"
   ]
  },
  {
   "cell_type": "markdown",
   "metadata": {},
   "source": [
    "## 测试 \n",
    "文本生成"
   ]
  },
  {
   "cell_type": "code",
   "execution_count": 8,
   "metadata": {},
   "outputs": [],
   "source": [
    "def generate(model, start_chars, char2index, index2char):\n",
    "    result = list(start_chars)\n",
    "    start_words_length = len(start_chars)\n",
    "    input = torch.LongTensor([char2index['<START>']]).view(1,1)\n",
    "    input = input.to(arg.device)\n",
    "\n",
    "    hidden = None\n",
    "    \n",
    "    for i in range(arg.max_generate_length):\n",
    "        output, hidden = model(input, hidden)\n",
    "        if i < start_words_length:\n",
    "            char = result[i]\n",
    "            try:\n",
    "                input = input.data.new([char2index[char]]).view(1, 1)            \n",
    "            except:\n",
    "                return '语料库中没有 “%s” 字' % char\n",
    "        else:\n",
    "            top_index = output.data[0].topk(1)[1][0].item()\n",
    "            char = index2char[top_index]\n",
    "            result.append(char)\n",
    "            input = input.data.new([top_index]).view(1, 1)\n",
    "        if char == '<EOP>':\n",
    "            del result[-1]\n",
    "            break\n",
    "            \n",
    "    return ''.join(result)"
   ]
  },
  {
   "cell_type": "code",
   "execution_count": 9,
   "metadata": {},
   "outputs": [
    {
     "name": "stdout",
     "output_type": "stream",
     "text": [
      "君不见黄河之水天上来，，不不不不。人不不，不以。以以，可以。以以，可定。以以，可以。以以，可定。以以\n"
     ]
    }
   ],
   "source": [
    "start_chars = '君不见黄河之水天上来'\n",
    "print(generate(model, start_chars, char2index, index2char))"
   ]
  },
  {
   "cell_type": "markdown",
   "metadata": {},
   "source": [
    "看样子现在的参数或模型效果不理想,也可能是数据量少"
   ]
  },
  {
   "cell_type": "code",
   "execution_count": null,
   "metadata": {},
   "outputs": [],
   "source": []
  }
 ],
 "metadata": {
  "kernelspec": {
   "display_name": "Python 3",
   "language": "python",
   "name": "python3"
  },
  "language_info": {
   "codemirror_mode": {
    "name": "ipython",
    "version": 3
   },
   "file_extension": ".py",
   "mimetype": "text/x-python",
   "name": "python",
   "nbconvert_exporter": "python",
   "pygments_lexer": "ipython3",
   "version": "3.7.0"
  }
 },
 "nbformat": 4,
 "nbformat_minor": 2
}
